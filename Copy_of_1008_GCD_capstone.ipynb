{
  "nbformat": 4,
  "nbformat_minor": 5,
  "metadata": {
    "kernelspec": {
      "display_name": "Python 3",
      "language": "python",
      "name": "python3"
    },
    "language_info": {
      "codemirror_mode": {
        "name": "ipython",
        "version": 3
      },
      "file_extension": ".py",
      "mimetype": "text/x-python",
      "name": "python",
      "nbconvert_exporter": "python",
      "pygments_lexer": "ipython3",
      "version": "3.8.5"
    },
    "toc": {
      "base_numbering": 1,
      "nav_menu": {},
      "number_sections": true,
      "sideBar": true,
      "skip_h1_title": false,
      "title_cell": "Table of Contents",
      "title_sidebar": "Contents",
      "toc_cell": false,
      "toc_position": {},
      "toc_section_display": true,
      "toc_window_display": false
    },
    "colab": {
      "name": "Copy of 1008_GCD_capstone.ipynb",
      "provenance": [],
      "collapsed_sections": [],
      "include_colab_link": true
    }
  },
  "cells": [
    {
      "cell_type": "markdown",
      "metadata": {
        "id": "view-in-github",
        "colab_type": "text"
      },
      "source": [
        "<a href=\"https://colab.research.google.com/github/PKohli876/Capstone-ML-1008/blob/main/Copy_of_1008_GCD_capstone.ipynb\" target=\"_parent\"><img src=\"https://colab.research.google.com/assets/colab-badge.svg\" alt=\"Open In Colab\"/></a>"
      ]
    },
    {
      "cell_type": "markdown",
      "metadata": {
        "id": "zHm5U2zxidXK"
      },
      "source": [
        "<a id=No1></a>\n",
        "### 1. Create MYSQL Connection and Import Libraries"
      ],
      "id": "zHm5U2zxidXK"
    },
    {
      "cell_type": "code",
      "metadata": {
        "id": "vpZca44-idXP"
      },
      "source": [
        "##install mysql connector\n",
        "#!pip install mysql-connector\n",
        "#!pip install mysql-connector-python\n",
        "\n",
        "\n",
        "#!pip install plotly\n",
        "#!pip install matplotlib\n",
        "#!pip install seaborn"
      ],
      "id": "vpZca44-idXP",
      "execution_count": 4,
      "outputs": []
    },
    {
      "cell_type": "code",
      "metadata": {
        "id": "B-LglmelidXR"
      },
      "source": [
        "import csv\n",
        "import pandas as pd\n",
        "import numpy as np\n",
        "import warnings\n",
        "import mysql.connector\n",
        "#Import mysql connector for connecting to DB\n",
        "warnings.filterwarnings(\"ignore\")\n",
        "warnings.filterwarnings(\"ignore\",category=DeprecationWarning)\n",
        "\n",
        "import plotly.express as px\n",
        "\n",
        "import matplotlib.pyplot as plt\n",
        "%matplotlib inline\n",
        "import seaborn as sns\n",
        "sns.set(style='whitegrid', font_scale=1.3, color_codes=True)      # To apply seaborn styles to the plots.\n",
        "import random\n",
        "import seaborn as sns"
      ],
      "id": "B-LglmelidXR",
      "execution_count": 5,
      "outputs": []
    },
    {
      "cell_type": "markdown",
      "metadata": {
        "id": "qbP1jbYJidXS"
      },
      "source": [
        "#### Database Connection\n"
      ],
      "id": "qbP1jbYJidXS"
    },
    {
      "cell_type": "code",
      "metadata": {
        "id": "2Y85VZQMidXT"
      },
      "source": [
        "#Storing the connection details of the DB in variable mydb\n",
        "mydb = mysql.connector.connect(\n",
        "  host=\"cpanel.insaid.co\",\n",
        "  user=\"student\",\n",
        "  password=\"student\",\n",
        "  database=\"Capstone2\"\n",
        ")"
      ],
      "id": "2Y85VZQMidXT",
      "execution_count": 6,
      "outputs": []
    },
    {
      "cell_type": "markdown",
      "metadata": {
        "id": "DM2Oc-zAidXT"
      },
      "source": [
        "<a id=No2></a>\n",
        "### 2. Extract Data from Tables and Files\n",
        "\n",
        "['department_data', 'employee_details_data', 'employee_data']"
      ],
      "id": "DM2Oc-zAidXT"
    },
    {
      "cell_type": "code",
      "metadata": {
        "colab": {
          "base_uri": "https://localhost:8080/"
        },
        "id": "zi9eZMxuidXU",
        "outputId": "5849109b-4cef-4ab2-d814-e799fc6b916d"
      },
      "source": [
        "#Reading the Table : department_data and getting all rows and store in dataframe dpt_data\n",
        "dpt_data = pd.read_sql('SELECT * FROM department_data', con=mydb)\n",
        "dpt_data.info()"
      ],
      "id": "zi9eZMxuidXU",
      "execution_count": 7,
      "outputs": [
        {
          "output_type": "stream",
          "name": "stdout",
          "text": [
            "<class 'pandas.core.frame.DataFrame'>\n",
            "RangeIndex: 11 entries, 0 to 10\n",
            "Data columns (total 3 columns):\n",
            " #   Column     Non-Null Count  Dtype \n",
            "---  ------     --------------  ----- \n",
            " 0   dept_id    11 non-null     object\n",
            " 1   dept_name  11 non-null     object\n",
            " 2   dept_head  11 non-null     object\n",
            "dtypes: object(3)\n",
            "memory usage: 392.0+ bytes\n"
          ]
        }
      ]
    },
    {
      "cell_type": "markdown",
      "metadata": {
        "id": "PF0R3GtCidXV"
      },
      "source": [
        "###### Department_Data table\n",
        "- Table contains 11 Rows\n",
        "- All columns has non-null data, no data is missing\n",
        "- All the data in this table is unique"
      ],
      "id": "PF0R3GtCidXV"
    },
    {
      "cell_type": "code",
      "metadata": {
        "colab": {
          "base_uri": "https://localhost:8080/"
        },
        "id": "xMHo7wkFidXW",
        "outputId": "42ec4c80-e9f5-411c-faac-7ef8a640bc3a"
      },
      "source": [
        "#Reading the Table : employee_data and getting all rows and store in dataframe emp_data\n",
        "emp_data = pd.read_sql('SELECT * FROM employee_data', con=mydb)\n",
        "emp_data.info()"
      ],
      "id": "xMHo7wkFidXW",
      "execution_count": 8,
      "outputs": [
        {
          "output_type": "stream",
          "name": "stdout",
          "text": [
            "<class 'pandas.core.frame.DataFrame'>\n",
            "RangeIndex: 14150 entries, 0 to 14149\n",
            "Data columns (total 11 columns):\n",
            " #   Column             Non-Null Count  Dtype  \n",
            "---  ------             --------------  -----  \n",
            " 0   avg_monthly_hrs    14150 non-null  float64\n",
            " 1   department         13443 non-null  object \n",
            " 2   filed_complaint    2046 non-null   float64\n",
            " 3   last_evaluation    12663 non-null  float64\n",
            " 4   n_projects         14150 non-null  int64  \n",
            " 5   recently_promoted  297 non-null    float64\n",
            " 6   salary             14150 non-null  object \n",
            " 7   satisfaction       14000 non-null  float64\n",
            " 8   status             14150 non-null  object \n",
            " 9   tenure             14000 non-null  float64\n",
            " 10  employee_id        14150 non-null  int64  \n",
            "dtypes: float64(6), int64(2), object(3)\n",
            "memory usage: 1.2+ MB\n"
          ]
        }
      ]
    },
    {
      "cell_type": "code",
      "metadata": {
        "colab": {
          "base_uri": "https://localhost:8080/"
        },
        "id": "hDt-EJPVidXX",
        "outputId": "2981ba41-edc8-4aac-f14c-eba6d37890a7"
      },
      "source": [
        "emp_data['employee_id'].nunique()"
      ],
      "id": "hDt-EJPVidXX",
      "execution_count": 9,
      "outputs": [
        {
          "output_type": "execute_result",
          "data": {
            "text/plain": [
              "14117"
            ]
          },
          "metadata": {},
          "execution_count": 9
        }
      ]
    },
    {
      "cell_type": "code",
      "metadata": {
        "colab": {
          "base_uri": "https://localhost:8080/"
        },
        "id": "tPeaNQsiidXZ",
        "outputId": "c45ea0d3-9b38-448c-a46d-cba51cc937ff"
      },
      "source": [
        "# Check for Duplicate Records based on 'employee_id'\n",
        "duplicate_emp = emp_data[emp_data.duplicated('employee_id', keep=False)]\n",
        "duplicate_emp['employee_id'].value_counts()"
      ],
      "id": "tPeaNQsiidXZ",
      "execution_count": 10,
      "outputs": [
        {
          "output_type": "execute_result",
          "data": {
            "text/plain": [
              "0         5\n",
              "106813    2\n",
              "119780    2\n",
              "104360    2\n",
              "119754    2\n",
              "112203    2\n",
              "117454    2\n",
              "122385    2\n",
              "110546    2\n",
              "116247    2\n",
              "109425    2\n",
              "105625    2\n",
              "111323    2\n",
              "109085    2\n",
              "111968    2\n",
              "108265    2\n",
              "116209    2\n",
              "109804    2\n",
              "112373    2\n",
              "102701    2\n",
              "110000    2\n",
              "101809    2\n",
              "116850    2\n",
              "116533    2\n",
              "115446    2\n",
              "108535    2\n",
              "112312    2\n",
              "116153    2\n",
              "108128    2\n",
              "115325    2\n",
              "Name: employee_id, dtype: int64"
            ]
          },
          "metadata": {},
          "execution_count": 10
        }
      ]
    },
    {
      "cell_type": "code",
      "metadata": {
        "colab": {
          "base_uri": "https://localhost:8080/"
        },
        "id": "sMguy43aidXZ",
        "outputId": "50fbb47d-bb9f-4db0-c130-0dbaa14a0727"
      },
      "source": [
        "# Check for Duplicate Records based on All columns\n",
        "#emp_data['employee_id'].value_counts()\n",
        "duplicate_emp = emp_data[emp_data.duplicated(keep=False)]\n",
        "#duplicate_emp.sort_values('employee_id').nunique()\n",
        "duplicate_emp['employee_id'].value_counts()"
      ],
      "id": "sMguy43aidXZ",
      "execution_count": 11,
      "outputs": [
        {
          "output_type": "execute_result",
          "data": {
            "text/plain": [
              "108265    2\n",
              "115325    2\n",
              "104360    2\n",
              "119754    2\n",
              "112203    2\n",
              "117454    2\n",
              "122385    2\n",
              "110546    2\n",
              "116247    2\n",
              "109425    2\n",
              "105625    2\n",
              "111323    2\n",
              "109085    2\n",
              "111968    2\n",
              "116209    2\n",
              "106813    2\n",
              "109804    2\n",
              "112373    2\n",
              "102701    2\n",
              "110000    2\n",
              "101809    2\n",
              "116850    2\n",
              "116533    2\n",
              "115446    2\n",
              "108535    2\n",
              "112312    2\n",
              "116153    2\n",
              "108128    2\n",
              "119780    2\n",
              "Name: employee_id, dtype: int64"
            ]
          },
          "metadata": {},
          "execution_count": 11
        }
      ]
    },
    {
      "cell_type": "code",
      "metadata": {
        "id": "p90YVqdFidXa"
      },
      "source": [
        "# Removing Duplicates, keeping the first record\n",
        "emp_data.drop_duplicates(keep='first',inplace=True)\n",
        "# Removing all rows with value of employee_id = 0\n",
        "emp_data = emp_data[emp_data.employee_id != 0]"
      ],
      "id": "p90YVqdFidXa",
      "execution_count": 12,
      "outputs": []
    },
    {
      "cell_type": "code",
      "metadata": {
        "colab": {
          "base_uri": "https://localhost:8080/"
        },
        "id": "culnR2XfidXb",
        "outputId": "b728b859-b768-4b6c-dec1-0837acc9bc81"
      },
      "source": [
        "emp_data['employee_id'].nunique()"
      ],
      "id": "culnR2XfidXb",
      "execution_count": 13,
      "outputs": [
        {
          "output_type": "execute_result",
          "data": {
            "text/plain": [
              "14116"
            ]
          },
          "metadata": {},
          "execution_count": 13
        }
      ]
    },
    {
      "cell_type": "code",
      "metadata": {
        "colab": {
          "base_uri": "https://localhost:8080/"
        },
        "id": "XjJ93FY6idXb",
        "outputId": "731f2d45-f412-4fe9-e44f-99af9a5e1351"
      },
      "source": [
        "#emp_data['department'].nunique()\n",
        "emp_data['department'].value_counts()"
      ],
      "id": "XjJ93FY6idXb",
      "execution_count": 14,
      "outputs": [
        {
          "output_type": "execute_result",
          "data": {
            "text/plain": [
              "D00-SS     3895\n",
              "D00-ENG    2573\n",
              "D00-SP     2108\n",
              "D00-IT     1152\n",
              "D00-PD      853\n",
              "D00-MT      812\n",
              "D00-FN      722\n",
              "D00-MN      590\n",
              "-IT         207\n",
              "D00-AD      175\n",
              "D00-PR      173\n",
              "D00-TP      150\n",
              "Name: department, dtype: int64"
            ]
          },
          "metadata": {},
          "execution_count": 14
        }
      ]
    },
    {
      "cell_type": "code",
      "metadata": {
        "id": "HEGLqAFbidXc"
      },
      "source": [
        "emp_data[\"department\"].replace({\"-IT\": \"D00-IT\"}, inplace=True)"
      ],
      "id": "HEGLqAFbidXc",
      "execution_count": 15,
      "outputs": []
    },
    {
      "cell_type": "code",
      "metadata": {
        "colab": {
          "base_uri": "https://localhost:8080/"
        },
        "id": "3RHmUEyKidXd",
        "outputId": "3b16b337-6789-47ec-b58b-8bda6d8b977a"
      },
      "source": [
        "#emp_data['department'].nunique()\n",
        "emp_data['department'].value_counts()"
      ],
      "id": "3RHmUEyKidXd",
      "execution_count": 16,
      "outputs": [
        {
          "output_type": "execute_result",
          "data": {
            "text/plain": [
              "D00-SS     3895\n",
              "D00-ENG    2573\n",
              "D00-SP     2108\n",
              "D00-IT     1359\n",
              "D00-PD      853\n",
              "D00-MT      812\n",
              "D00-FN      722\n",
              "D00-MN      590\n",
              "D00-AD      175\n",
              "D00-PR      173\n",
              "D00-TP      150\n",
              "Name: department, dtype: int64"
            ]
          },
          "metadata": {},
          "execution_count": 16
        }
      ]
    },
    {
      "cell_type": "code",
      "metadata": {
        "colab": {
          "base_uri": "https://localhost:8080/"
        },
        "id": "zOYpm8CIidXd",
        "outputId": "17435f73-8409-4782-fd74-5814eb6afe62"
      },
      "source": [
        "emp_data['filed_complaint'].value_counts()"
      ],
      "id": "zOYpm8CIidXd",
      "execution_count": 17,
      "outputs": [
        {
          "output_type": "execute_result",
          "data": {
            "text/plain": [
              "1.0    2041\n",
              "Name: filed_complaint, dtype: int64"
            ]
          },
          "metadata": {},
          "execution_count": 17
        }
      ]
    },
    {
      "cell_type": "code",
      "metadata": {
        "colab": {
          "base_uri": "https://localhost:8080/"
        },
        "id": "lu2Bw_LaidXe",
        "outputId": "ce76e026-55ca-42cb-a92d-301497e45f4b"
      },
      "source": [
        "emp_data['last_evaluation'].value_counts()"
      ],
      "id": "lu2Bw_LaidXe",
      "execution_count": 18,
      "outputs": [
        {
          "output_type": "execute_result",
          "data": {
            "text/plain": [
              "1.000000    356\n",
              "0.896246      3\n",
              "0.587029      2\n",
              "0.890877      2\n",
              "0.908024      2\n",
              "           ... \n",
              "0.992276      1\n",
              "0.754216      1\n",
              "0.716929      1\n",
              "0.906931      1\n",
              "0.568577      1\n",
              "Name: last_evaluation, Length: 12184, dtype: int64"
            ]
          },
          "metadata": {},
          "execution_count": 18
        }
      ]
    },
    {
      "cell_type": "code",
      "metadata": {
        "colab": {
          "base_uri": "https://localhost:8080/"
        },
        "id": "Dc-gN9bRidXe",
        "outputId": "4d2e458f-f9b9-40f6-a0a9-a2e9b9f9078f"
      },
      "source": [
        "emp_data['recently_promoted'].value_counts()"
      ],
      "id": "Dc-gN9bRidXe",
      "execution_count": 19,
      "outputs": [
        {
          "output_type": "execute_result",
          "data": {
            "text/plain": [
              "1.0    297\n",
              "Name: recently_promoted, dtype: int64"
            ]
          },
          "metadata": {},
          "execution_count": 19
        }
      ]
    },
    {
      "cell_type": "code",
      "metadata": {
        "colab": {
          "base_uri": "https://localhost:8080/"
        },
        "id": "eMLe1DjoidXf",
        "outputId": "cece23a7-6afe-429a-ef87-8fa31063f331"
      },
      "source": [
        "emp_data['satisfaction'].value_counts()"
      ],
      "id": "eMLe1DjoidXf",
      "execution_count": 20,
      "outputs": [
        {
          "output_type": "execute_result",
          "data": {
            "text/plain": [
              "1.000000    356\n",
              "0.808750      2\n",
              "0.983452      2\n",
              "0.112795      2\n",
              "0.557875      2\n",
              "           ... \n",
              "0.814787      1\n",
              "0.321574      1\n",
              "0.983175      1\n",
              "0.886305      1\n",
              "0.158990      1\n",
              "Name: satisfaction, Length: 13492, dtype: int64"
            ]
          },
          "metadata": {},
          "execution_count": 20
        }
      ]
    },
    {
      "cell_type": "code",
      "metadata": {
        "colab": {
          "base_uri": "https://localhost:8080/"
        },
        "id": "vBZa_cTqidXg",
        "outputId": "14be353c-343d-433c-9b09-f95265966922"
      },
      "source": [
        "emp_data['tenure'].value_counts()"
      ],
      "id": "vBZa_cTqidXg",
      "execution_count": 21,
      "outputs": [
        {
          "output_type": "execute_result",
          "data": {
            "text/plain": [
              "3.0     6006\n",
              "2.0     3019\n",
              "4.0     2386\n",
              "5.0     1363\n",
              "6.0      659\n",
              "10.0     198\n",
              "7.0      180\n",
              "8.0      155\n",
              "Name: tenure, dtype: int64"
            ]
          },
          "metadata": {},
          "execution_count": 21
        }
      ]
    },
    {
      "cell_type": "code",
      "metadata": {
        "colab": {
          "base_uri": "https://localhost:8080/"
        },
        "id": "GM_UL0LCidXg",
        "outputId": "ab8b2cfa-4ec7-4fe5-a9a5-db47e367273a"
      },
      "source": [
        "\n",
        "#emp_data.tenure.isnull().value_counts()\n",
        "emp_data.satisfaction.isnull().value_counts()"
      ],
      "id": "GM_UL0LCidXg",
      "execution_count": 22,
      "outputs": [
        {
          "output_type": "execute_result",
          "data": {
            "text/plain": [
              "False    13966\n",
              "True       150\n",
              "Name: satisfaction, dtype: int64"
            ]
          },
          "metadata": {},
          "execution_count": 22
        }
      ]
    },
    {
      "cell_type": "code",
      "metadata": {
        "colab": {
          "base_uri": "https://localhost:8080/"
        },
        "id": "V7L9m3NeidXg",
        "outputId": "a1b58205-9add-4e0e-c9d0-e5c226ff3d3e"
      },
      "source": [
        "emp_data.info()"
      ],
      "id": "V7L9m3NeidXg",
      "execution_count": 23,
      "outputs": [
        {
          "output_type": "stream",
          "name": "stdout",
          "text": [
            "<class 'pandas.core.frame.DataFrame'>\n",
            "Int64Index: 14116 entries, 0 to 14120\n",
            "Data columns (total 11 columns):\n",
            " #   Column             Non-Null Count  Dtype  \n",
            "---  ------             --------------  -----  \n",
            " 0   avg_monthly_hrs    14116 non-null  float64\n",
            " 1   department         13410 non-null  object \n",
            " 2   filed_complaint    2041 non-null   float64\n",
            " 3   last_evaluation    12629 non-null  float64\n",
            " 4   n_projects         14116 non-null  int64  \n",
            " 5   recently_promoted  297 non-null    float64\n",
            " 6   salary             14116 non-null  object \n",
            " 7   satisfaction       13966 non-null  float64\n",
            " 8   status             14116 non-null  object \n",
            " 9   tenure             13966 non-null  float64\n",
            " 10  employee_id        14116 non-null  int64  \n",
            "dtypes: float64(6), int64(2), object(3)\n",
            "memory usage: 1.3+ MB\n"
          ]
        }
      ]
    },
    {
      "cell_type": "code",
      "metadata": {
        "colab": {
          "base_uri": "https://localhost:8080/"
        },
        "id": "RUGrP3rSidXh",
        "outputId": "319827e8-c370-411f-b67d-4c51d2d54e2e"
      },
      "source": [
        "14116 - 13410 "
      ],
      "id": "RUGrP3rSidXh",
      "execution_count": 24,
      "outputs": [
        {
          "output_type": "execute_result",
          "data": {
            "text/plain": [
              "706"
            ]
          },
          "metadata": {},
          "execution_count": 24
        }
      ]
    },
    {
      "cell_type": "code",
      "metadata": {
        "colab": {
          "base_uri": "https://localhost:8080/"
        },
        "id": "d5czObfXidXh",
        "outputId": "10d5a904-11d0-40a9-cbb9-3f425c7ef03b"
      },
      "source": [
        "# Checking if there is any duplicate record exist in the Queue\n",
        "duplicate_emp = emp_data[emp_data.duplicated('employee_id', keep=False)]\n",
        "duplicate_emp['employee_id'].value_counts()\n"
      ],
      "id": "d5czObfXidXh",
      "execution_count": 25,
      "outputs": [
        {
          "output_type": "execute_result",
          "data": {
            "text/plain": [
              "Series([], Name: employee_id, dtype: int64)"
            ]
          },
          "metadata": {},
          "execution_count": 25
        }
      ]
    },
    {
      "cell_type": "markdown",
      "metadata": {
        "id": "7TswpZgjidXh"
      },
      "source": [
        "###### Employee_Data table\n",
        "- Table contains 14150 Rows/Records for Employees\n",
        "- Table contains 14117 Unique Employee Records\n",
        "- Table contains 5 records with employee_id as 0\n",
        "- Table contains other 29 duplicate employee_id records, from which either first or last can be kept, as the records duplicate\n",
        "- Records with Employee Id '0' are 5 distinct records, we can remove all the five records with employee_id = 0\n",
        "- Column 'department' contains a value as '-IT', this can be a mistake and can be replaced with value 'D00-IT'\n",
        "- Column 'department' contains some (706) Null values, we need to see how to handle this, if department column is of some use, then we can remove the rows with department column as Null. If it is of no use then we can remove this column\n",
        "- Column 'filed_complaint' has value as '1' or 'Null', 'Null' can be replaced with '0'\n",
        "- Column 'last_evaluation' contains some Null values, 'Null values in 'last_evaluation' can be replaced with average of the 'last_evaluation' column with non-null values\n",
        "- Column 'recently_promoted' has value as '1' or 'Null', 'Null' can be replaced with '0'\n",
        "- Column 'tenure' contains some Null values\n",
        "- For 150 records, both 'tenure' and 'satisfaction' columns are Null. Seems these are for new employees and have not gone through annual evaluation.\n",
        "- The 'Null' values in column 'tenure' can be replaced with 0 or 1, as these employees are in there 1st year of employment with this employer\n",
        "- Column 'satisfaction' contains some Null values, Null values in Satisfaction can be replaced with average of the Satisfaction column with non-null values\n"
      ],
      "id": "7TswpZgjidXh"
    },
    {
      "cell_type": "code",
      "metadata": {
        "colab": {
          "base_uri": "https://localhost:8080/"
        },
        "id": "DJ-5hvV9idXh",
        "outputId": "69fe7301-1e83-4a96-ed32-deac47aca011"
      },
      "source": [
        "#Reading the Table : employee_details_data and getting all rows and store in dataframe emp_det_data\n",
        "emp_det_data = pd.read_sql('SELECT * FROM employee_details_data', con=mydb)\n",
        "emp_det_data.info()"
      ],
      "id": "DJ-5hvV9idXh",
      "execution_count": 26,
      "outputs": [
        {
          "output_type": "stream",
          "name": "stdout",
          "text": [
            "<class 'pandas.core.frame.DataFrame'>\n",
            "RangeIndex: 14245 entries, 0 to 14244\n",
            "Data columns (total 4 columns):\n",
            " #   Column          Non-Null Count  Dtype \n",
            "---  ------          --------------  ----- \n",
            " 0   employee_id     14245 non-null  int64 \n",
            " 1   age             14245 non-null  int64 \n",
            " 2   gender          14245 non-null  object\n",
            " 3   marital_status  14245 non-null  object\n",
            "dtypes: int64(2), object(2)\n",
            "memory usage: 445.3+ KB\n"
          ]
        }
      ]
    },
    {
      "cell_type": "code",
      "metadata": {
        "colab": {
          "base_uri": "https://localhost:8080/"
        },
        "id": "vRbp7W8-idXi",
        "outputId": "ae634fca-2cc2-41b6-c5a6-f56e383e0dd8"
      },
      "source": [
        "emp_det_data['employee_id'].nunique()"
      ],
      "id": "vRbp7W8-idXi",
      "execution_count": 27,
      "outputs": [
        {
          "output_type": "execute_result",
          "data": {
            "text/plain": [
              "14245"
            ]
          },
          "metadata": {},
          "execution_count": 27
        }
      ]
    },
    {
      "cell_type": "code",
      "metadata": {
        "colab": {
          "base_uri": "https://localhost:8080/"
        },
        "id": "VEqYpyKLidXi",
        "outputId": "bfcd96f1-f7fc-4613-8364-798c16416e2b"
      },
      "source": [
        "emp_det_data['age'].nunique()"
      ],
      "id": "VEqYpyKLidXi",
      "execution_count": 28,
      "outputs": [
        {
          "output_type": "execute_result",
          "data": {
            "text/plain": [
              "36"
            ]
          },
          "metadata": {},
          "execution_count": 28
        }
      ]
    },
    {
      "cell_type": "code",
      "metadata": {
        "colab": {
          "base_uri": "https://localhost:8080/"
        },
        "id": "-maiczRUidXi",
        "outputId": "2a610d50-d62f-4894-c4a9-963e4f2896f9"
      },
      "source": [
        "emp_det_data['age'].value_counts()"
      ],
      "id": "-maiczRUidXi",
      "execution_count": 29,
      "outputs": [
        {
          "output_type": "execute_result",
          "data": {
            "text/plain": [
              "24    1319\n",
              "25    1255\n",
              "23    1209\n",
              "22    1175\n",
              "27     674\n",
              "29     669\n",
              "28     651\n",
              "26     633\n",
              "42     306\n",
              "37     285\n",
              "32     281\n",
              "47     281\n",
              "33     280\n",
              "46     277\n",
              "30     275\n",
              "39     275\n",
              "48     274\n",
              "40     273\n",
              "36     271\n",
              "41     270\n",
              "38     270\n",
              "45     266\n",
              "43     265\n",
              "35     264\n",
              "52     254\n",
              "44     252\n",
              "34     247\n",
              "49     244\n",
              "50     236\n",
              "53     236\n",
              "51     228\n",
              "31     228\n",
              "54     227\n",
              "55      38\n",
              "57      34\n",
              "56      23\n",
              "Name: age, dtype: int64"
            ]
          },
          "metadata": {},
          "execution_count": 29
        }
      ]
    },
    {
      "cell_type": "code",
      "metadata": {
        "colab": {
          "base_uri": "https://localhost:8080/",
          "height": 330
        },
        "id": "ZWEwJZtKillu",
        "outputId": "775a996b-d76b-427b-b0af-f53278ddb02b"
      },
      "source": [
        "plt.xlabel(\"Age\")\n",
        "plt.title(\"Employee Age\")\n",
        "emp_det_data['age'].value_counts().plot.bar()\n"
      ],
      "id": "ZWEwJZtKillu",
      "execution_count": 30,
      "outputs": [
        {
          "output_type": "execute_result",
          "data": {
            "text/plain": [
              "<matplotlib.axes._subplots.AxesSubplot at 0x7f85f0368e50>"
            ]
          },
          "metadata": {},
          "execution_count": 30
        },
        {
          "output_type": "display_data",
          "data": {
            "image/png": "[encoded data removed]",
            "text/plain": [
              "<Figure size 432x288 with 1 Axes>"
            ]
          },
          "metadata": {}
        }
      ]
    },
    {
      "cell_type": "code",
      "metadata": {
        "colab": {
          "base_uri": "https://localhost:8080/"
        },
        "id": "hHYhwwAVidXi",
        "outputId": "72416f96-25ea-45fd-b61d-6e2f62c2f010"
      },
      "source": [
        "emp_det_data['gender'].nunique()"
      ],
      "id": "hHYhwwAVidXi",
      "execution_count": 31,
      "outputs": [
        {
          "output_type": "execute_result",
          "data": {
            "text/plain": [
              "2"
            ]
          },
          "metadata": {},
          "execution_count": 31
        }
      ]
    },
    {
      "cell_type": "code",
      "metadata": {
        "colab": {
          "base_uri": "https://localhost:8080/"
        },
        "id": "d2EJQoWJidXj",
        "outputId": "2fa1ec51-8769-4003-d254-1803246d36e3"
      },
      "source": [
        "emp_det_data['marital_status'].nunique()"
      ],
      "id": "d2EJQoWJidXj",
      "execution_count": 32,
      "outputs": [
        {
          "output_type": "execute_result",
          "data": {
            "text/plain": [
              "2"
            ]
          },
          "metadata": {},
          "execution_count": 32
        }
      ]
    },
    {
      "cell_type": "markdown",
      "metadata": {
        "id": "C2EJamoxidXj"
      },
      "source": [
        "###### Employee_Details_Data table\n",
        "- Table contains 14245 Rows/Records for Employees\n",
        "- All the records are Unique\n",
        "- The data in 'age' column seems to contain logical records, no outliers are found\n",
        "- The data in 'gender' column contains only 2 type of records\n",
        "- The data in 'marital_status' column contains only 2 type of records"
      ],
      "id": "C2EJamoxidXj"
    },
    {
      "cell_type": "markdown",
      "metadata": {
        "id": "4QMAhacNidXj"
      },
      "source": [
        "#### Merging the Data"
      ],
      "id": "4QMAhacNidXj"
    },
    {
      "cell_type": "code",
      "metadata": {
        "id": "dr8rQ1XsidXj"
      },
      "source": [
        "merged_df = pd.merge(dpt_data, emp_data, how ='right', left_on='dept_id', right_on='department').drop(['dept_id', 'department'], 1)"
      ],
      "id": "dr8rQ1XsidXj",
      "execution_count": 33,
      "outputs": []
    },
    {
      "cell_type": "code",
      "metadata": {
        "id": "97Pa8ghvidXk"
      },
      "source": [
        "merged_df = pd.merge(merged_df, emp_det_data, how ='left', left_on='employee_id', right_on='employee_id')"
      ],
      "id": "97Pa8ghvidXk",
      "execution_count": 34,
      "outputs": []
    },
    {
      "cell_type": "code",
      "metadata": {
        "id": "UU6inGlDidXk"
      },
      "source": [
        "merged_df[\"filed_complaint\"].fillna(0, inplace = True)\n",
        "merged_df[\"last_evaluation\"].fillna(merged_df['last_evaluation'].mean(), inplace = True)\n",
        "merged_df[\"recently_promoted\"].fillna(0, inplace = True)\n",
        "merged_df[\"satisfaction\"].fillna(merged_df['satisfaction'].mean(), inplace = True)\n",
        "merged_df[\"tenure\"].fillna(1, inplace = True)\n",
        "merged_df = merged_df.drop(['dept_head'], axis=1)"
      ],
      "id": "UU6inGlDidXk",
      "execution_count": 35,
      "outputs": []
    },
    {
      "cell_type": "code",
      "metadata": {
        "scrolled": false,
        "colab": {
          "base_uri": "https://localhost:8080/"
        },
        "id": "YkkjTanIidXk",
        "outputId": "43880219-1625-4100-a3a5-7e0b898805ae"
      },
      "source": [
        "merged_df.info()"
      ],
      "id": "YkkjTanIidXk",
      "execution_count": 36,
      "outputs": [
        {
          "output_type": "stream",
          "name": "stdout",
          "text": [
            "<class 'pandas.core.frame.DataFrame'>\n",
            "Int64Index: 14116 entries, 0 to 14115\n",
            "Data columns (total 14 columns):\n",
            " #   Column             Non-Null Count  Dtype  \n",
            "---  ------             --------------  -----  \n",
            " 0   dept_name          13410 non-null  object \n",
            " 1   avg_monthly_hrs    14116 non-null  float64\n",
            " 2   filed_complaint    14116 non-null  float64\n",
            " 3   last_evaluation    14116 non-null  float64\n",
            " 4   n_projects         14116 non-null  int64  \n",
            " 5   recently_promoted  14116 non-null  float64\n",
            " 6   salary             14116 non-null  object \n",
            " 7   satisfaction       14116 non-null  float64\n",
            " 8   status             14116 non-null  object \n",
            " 9   tenure             14116 non-null  float64\n",
            " 10  employee_id        14116 non-null  int64  \n",
            " 11  age                14116 non-null  int64  \n",
            " 12  gender             14116 non-null  object \n",
            " 13  marital_status     14116 non-null  object \n",
            "dtypes: float64(6), int64(3), object(5)\n",
            "memory usage: 1.6+ MB\n"
          ]
        }
      ]
    },
    {
      "cell_type": "markdown",
      "metadata": {
        "id": "jVadZGRcidXk"
      },
      "source": [
        "###### Merged Data Analysis\n",
        "- Department and Employee data is merged on the basis of 'dept_id' and 'department' columns\n",
        "- Both the columns 'dept_id' and 'department' are removed as well\n",
        "- The merged data of above 2 tables is then merged with Employee Details on the basis of 'employee_id'\n",
        "- 'dept_head' column is removed, as it will not be of much use\n",
        "- Object type variables needs to converted to Numerical"
      ],
      "id": "jVadZGRcidXk"
    },
    {
      "cell_type": "code",
      "metadata": {
        "id": "tk58SDnJidXk"
      },
      "source": [
        "# Optional, can be removed. Dropping the rows with null values\n",
        "#merged_df.dropna(subset=['dept_name'], inplace=True)\n",
        "#merged_df['satisfaction'].value_counts()\n",
        "#merged_df['last_evaluation'].value_counts()"
      ],
      "id": "tk58SDnJidXk",
      "execution_count": 37,
      "outputs": []
    },
    {
      "cell_type": "markdown",
      "metadata": {
        "id": "PylUr5vXidXk"
      },
      "source": [
        "- department vs Avg Monthly hours\n",
        "- department vs filed complaints\n",
        "- department vs last evaluation\n",
        "- department vs number of projects\n",
        "\n"
      ],
      "id": "PylUr5vXidXk"
    },
    {
      "cell_type": "code",
      "metadata": {
        "colab": {
          "base_uri": "https://localhost:8080/",
          "height": 443
        },
        "id": "shUGowWTleJa",
        "outputId": "a24bf304-6890-4361-db98-f16993dca01e"
      },
      "source": [
        "merged_df.groupby([\"dept_name\"]).sum()[\"avg_monthly_hrs\"].plot.bar(stacked = True, figsize =(8,5))"
      ],
      "id": "shUGowWTleJa",
      "execution_count": 38,
      "outputs": [
        {
          "output_type": "execute_result",
          "data": {
            "text/plain": [
              "<matplotlib.axes._subplots.AxesSubplot at 0x7f85f01dd510>"
            ]
          },
          "metadata": {},
          "execution_count": 38
        },
        {
          "output_type": "display_data",
          "data": {
            "image/png": "[encoded data removed]",
            "text/plain": [
              "<Figure size 576x360 with 1 Axes>"
            ]
          },
          "metadata": {}
        }
      ]
    },
    {
      "cell_type": "code",
      "metadata": {
        "colab": {
          "base_uri": "https://localhost:8080/",
          "height": 443
        },
        "id": "jbPnM5bYmX7u",
        "outputId": "9858784e-f08b-4d1c-ebd1-570929aa2a65"
      },
      "source": [
        "merged_df.groupby([\"dept_name\"]).sum()[\"filed_complaint\"].plot.bar(stacked = True, figsize =(8,5))"
      ],
      "id": "jbPnM5bYmX7u",
      "execution_count": 39,
      "outputs": [
        {
          "output_type": "execute_result",
          "data": {
            "text/plain": [
              "<matplotlib.axes._subplots.AxesSubplot at 0x7f85f0368590>"
            ]
          },
          "metadata": {},
          "execution_count": 39
        },
        {
          "output_type": "display_data",
          "data": {
            "image/png": "[encoded data removed]",
            "text/plain": [
              "<Figure size 576x360 with 1 Axes>"
            ]
          },
          "metadata": {}
        }
      ]
    },
    {
      "cell_type": "code",
      "metadata": {
        "colab": {
          "base_uri": "https://localhost:8080/",
          "height": 314
        },
        "id": "5SL96jDwmx2t",
        "outputId": "f6f9219b-4030-46cd-ad22-7ba2d942779e"
      },
      "source": [
        "merged_df.boxplot(column=['last_evaluation'], by='dept_name')\n",
        "plt.rcParams[\"figure.figsize\"] = (20,8)\n",
        "plt.show()\n"
      ],
      "id": "5SL96jDwmx2t",
      "execution_count": 40,
      "outputs": [
        {
          "output_type": "display_data",
          "data": {
            "image/png": "[encoded data removed]",
            "text/plain": [
              "<Figure size 432x288 with 1 Axes>"
            ]
          },
          "metadata": {}
        }
      ]
    },
    {
      "cell_type": "code",
      "metadata": {
        "id": "uD11Gm9AvzOf",
        "colab": {
          "base_uri": "https://localhost:8080/",
          "height": 470
        },
        "outputId": "95d80aab-f6f5-4302-e11a-4aca97479e2a"
      },
      "source": [
        "#merged_df.groupby([\"dept_name\"]).count()[\"status\"].plot.bar(stacked = True, figsize =(8,5))\n",
        "#df = pd.DataFrame({'status': merged_df.groupby([\"dept_name\", \"status\"]).count()[0],\n",
        "                   #'salary': merged_df.groupby([\"dept_name\", \"salary\"]).count()[0]}, index= merged_df[\"dept_name\"].unique())\n",
        "#df.plot.barh(rot=0)\n",
        "#merged_df\n",
        "merged_df.groupby([\"dept_name\", \"status\", \"salary\"]).count()#[\"satisfaction\"]#.plot.bar(stacked = True, figsize =(8,5))\n",
        "#merged_df.groupby([\"dept_name\", \"status\", \"salary\"]).count().plot.bar(stacked = True, figsize =(8,5))\n",
        "#merged_df.groupby([\"dept_name\"]).count()[\"status\"].plot.bar(stacked = True, figsize =(8,5))"
      ],
      "id": "uD11Gm9AvzOf",
      "execution_count": 41,
      "outputs": [
        {
          "output_type": "execute_result",
          "data": {
            "text/html": [
              "<div>\n",
              "<style scoped>\n",
              "    .dataframe tbody tr th:only-of-type {\n",
              "        vertical-align: middle;\n",
              "    }\n",
              "\n",
              "    .dataframe tbody tr th {\n",
              "        vertical-align: top;\n",
              "    }\n",
              "\n",
              "    .dataframe thead th {\n",
              "        text-align: right;\n",
              "    }\n",
              "</style>\n",
              "<table border=\"1\" class=\"dataframe\">\n",
              "  <thead>\n",
              "    <tr style=\"text-align: right;\">\n",
              "      <th></th>\n",
              "      <th></th>\n",
              "      <th></th>\n",
              "      <th>avg_monthly_hrs</th>\n",
              "      <th>filed_complaint</th>\n",
              "      <th>last_evaluation</th>\n",
              "      <th>n_projects</th>\n",
              "      <th>recently_promoted</th>\n",
              "      <th>satisfaction</th>\n",
              "      <th>tenure</th>\n",
              "      <th>employee_id</th>\n",
              "      <th>age</th>\n",
              "      <th>gender</th>\n",
              "      <th>marital_status</th>\n",
              "    </tr>\n",
              "    <tr>\n",
              "      <th>dept_name</th>\n",
              "      <th>status</th>\n",
              "      <th>salary</th>\n",
              "      <th></th>\n",
              "      <th></th>\n",
              "      <th></th>\n",
              "      <th></th>\n",
              "      <th></th>\n",
              "      <th></th>\n",
              "      <th></th>\n",
              "      <th></th>\n",
              "      <th></th>\n",
              "      <th></th>\n",
              "      <th></th>\n",
              "    </tr>\n",
              "  </thead>\n",
              "  <tbody>\n",
              "    <tr>\n",
              "      <th rowspan=\"5\" valign=\"top\">Admin</th>\n",
              "      <th rowspan=\"3\" valign=\"top\">Employed</th>\n",
              "      <th>high</th>\n",
              "      <td>11</td>\n",
              "      <td>11</td>\n",
              "      <td>11</td>\n",
              "      <td>11</td>\n",
              "      <td>11</td>\n",
              "      <td>11</td>\n",
              "      <td>11</td>\n",
              "      <td>11</td>\n",
              "      <td>11</td>\n",
              "      <td>11</td>\n",
              "      <td>11</td>\n",
              "    </tr>\n",
              "    <tr>\n",
              "      <th>low</th>\n",
              "      <td>64</td>\n",
              "      <td>64</td>\n",
              "      <td>64</td>\n",
              "      <td>64</td>\n",
              "      <td>64</td>\n",
              "      <td>64</td>\n",
              "      <td>64</td>\n",
              "      <td>64</td>\n",
              "      <td>64</td>\n",
              "      <td>64</td>\n",
              "      <td>64</td>\n",
              "    </tr>\n",
              "    <tr>\n",
              "      <th>medium</th>\n",
              "      <td>65</td>\n",
              "      <td>65</td>\n",
              "      <td>65</td>\n",
              "      <td>65</td>\n",
              "      <td>65</td>\n",
              "      <td>65</td>\n",
              "      <td>65</td>\n",
              "      <td>65</td>\n",
              "      <td>65</td>\n",
              "      <td>65</td>\n",
              "      <td>65</td>\n",
              "    </tr>\n",
              "    <tr>\n",
              "      <th rowspan=\"2\" valign=\"top\">Left</th>\n",
              "      <th>high</th>\n",
              "      <td>1</td>\n",
              "      <td>1</td>\n",
              "      <td>1</td>\n",
              "      <td>1</td>\n",
              "      <td>1</td>\n",
              "      <td>1</td>\n",
              "      <td>1</td>\n",
              "      <td>1</td>\n",
              "      <td>1</td>\n",
              "      <td>1</td>\n",
              "      <td>1</td>\n",
              "    </tr>\n",
              "    <tr>\n",
              "      <th>low</th>\n",
              "      <td>19</td>\n",
              "      <td>19</td>\n",
              "      <td>19</td>\n",
              "      <td>19</td>\n",
              "      <td>19</td>\n",
              "      <td>19</td>\n",
              "      <td>19</td>\n",
              "      <td>19</td>\n",
              "      <td>19</td>\n",
              "      <td>19</td>\n",
              "      <td>19</td>\n",
              "    </tr>\n",
              "    <tr>\n",
              "      <th>...</th>\n",
              "      <th>...</th>\n",
              "      <th>...</th>\n",
              "      <td>...</td>\n",
              "      <td>...</td>\n",
              "      <td>...</td>\n",
              "      <td>...</td>\n",
              "      <td>...</td>\n",
              "      <td>...</td>\n",
              "      <td>...</td>\n",
              "      <td>...</td>\n",
              "      <td>...</td>\n",
              "      <td>...</td>\n",
              "      <td>...</td>\n",
              "    </tr>\n",
              "    <tr>\n",
              "      <th rowspan=\"5\" valign=\"top\">Temp</th>\n",
              "      <th rowspan=\"2\" valign=\"top\">Employed</th>\n",
              "      <th>low</th>\n",
              "      <td>56</td>\n",
              "      <td>56</td>\n",
              "      <td>56</td>\n",
              "      <td>56</td>\n",
              "      <td>56</td>\n",
              "      <td>56</td>\n",
              "      <td>56</td>\n",
              "      <td>56</td>\n",
              "      <td>56</td>\n",
              "      <td>56</td>\n",
              "      <td>56</td>\n",
              "    </tr>\n",
              "    <tr>\n",
              "      <th>medium</th>\n",
              "      <td>66</td>\n",
              "      <td>66</td>\n",
              "      <td>66</td>\n",
              "      <td>66</td>\n",
              "      <td>66</td>\n",
              "      <td>66</td>\n",
              "      <td>66</td>\n",
              "      <td>66</td>\n",
              "      <td>66</td>\n",
              "      <td>66</td>\n",
              "      <td>66</td>\n",
              "    </tr>\n",
              "    <tr>\n",
              "      <th rowspan=\"3\" valign=\"top\">Left</th>\n",
              "      <th>high</th>\n",
              "      <td>1</td>\n",
              "      <td>1</td>\n",
              "      <td>1</td>\n",
              "      <td>1</td>\n",
              "      <td>1</td>\n",
              "      <td>1</td>\n",
              "      <td>1</td>\n",
              "      <td>1</td>\n",
              "      <td>1</td>\n",
              "      <td>1</td>\n",
              "      <td>1</td>\n",
              "    </tr>\n",
              "    <tr>\n",
              "      <th>low</th>\n",
              "      <td>8</td>\n",
              "      <td>8</td>\n",
              "      <td>8</td>\n",
              "      <td>8</td>\n",
              "      <td>8</td>\n",
              "      <td>8</td>\n",
              "      <td>8</td>\n",
              "      <td>8</td>\n",
              "      <td>8</td>\n",
              "      <td>8</td>\n",
              "      <td>8</td>\n",
              "    </tr>\n",
              "    <tr>\n",
              "      <th>medium</th>\n",
              "      <td>11</td>\n",
              "      <td>11</td>\n",
              "      <td>11</td>\n",
              "      <td>11</td>\n",
              "      <td>11</td>\n",
              "      <td>11</td>\n",
              "      <td>11</td>\n",
              "      <td>11</td>\n",
              "      <td>11</td>\n",
              "      <td>11</td>\n",
              "      <td>11</td>\n",
              "    </tr>\n",
              "  </tbody>\n",
              "</table>\n",
              "<p>64 rows × 11 columns</p>\n",
              "</div>"
            ],
            "text/plain": [
              "                           avg_monthly_hrs  ...  marital_status\n",
              "dept_name status   salary                   ...                \n",
              "Admin     Employed high                 11  ...              11\n",
              "                   low                  64  ...              64\n",
              "                   medium               65  ...              65\n",
              "          Left     high                  1  ...               1\n",
              "                   low                  19  ...              19\n",
              "...                                    ...  ...             ...\n",
              "Temp      Employed low                  56  ...              56\n",
              "                   medium               66  ...              66\n",
              "          Left     high                  1  ...               1\n",
              "                   low                   8  ...               8\n",
              "                   medium               11  ...              11\n",
              "\n",
              "[64 rows x 11 columns]"
            ]
          },
          "metadata": {},
          "execution_count": 41
        }
      ]
    },
    {
      "cell_type": "code",
      "metadata": {
        "id": "mE9_36GI7jhv",
        "colab": {
          "base_uri": "https://localhost:8080/",
          "height": 503
        },
        "outputId": "39a3f644-04ad-4881-9e75-d42edc174fd7"
      },
      "source": [
        "#YStatus = merged_df.groupby([\"dept_name\", \"status\"]).count()[\"employee_id\"]\n",
        "#ZSalary = merged_df.groupby([\"dept_name\", \"salary\"]).count()[\"employee_id\"]\n",
        "#YStatus\n",
        "merged_df.groupby([\"dept_name\", \"status\"]).size().unstack().plot(kind='barh', stacked=True)\n",
        "\n",
        "#merged_df.groupby([\"dept_name\", \"salary\", \"status\"]).size().unstack().plot(kind='bar', stacked=True)\n"
      ],
      "id": "mE9_36GI7jhv",
      "execution_count": 42,
      "outputs": [
        {
          "output_type": "execute_result",
          "data": {
            "text/plain": [
              "<matplotlib.axes._subplots.AxesSubplot at 0x7f85f0162610>"
            ]
          },
          "metadata": {},
          "execution_count": 42
        },
        {
          "output_type": "display_data",
          "data": {
            "image/png": "[encoded data removed]",
            "text/plain": [
              "<Figure size 1440x576 with 1 Axes>"
            ]
          },
          "metadata": {}
        }
      ]
    },
    {
      "cell_type": "code",
      "metadata": {
        "id": "qt0imjctBEvb",
        "colab": {
          "base_uri": "https://localhost:8080/",
          "height": 503
        },
        "outputId": "2eff95aa-3c8b-4c31-d06f-cf988a7ffa8f"
      },
      "source": [
        "merged_df.groupby([\"dept_name\", \"salary\"]).size().unstack().plot(kind='barh', stacked=False)"
      ],
      "id": "qt0imjctBEvb",
      "execution_count": 43,
      "outputs": [
        {
          "output_type": "execute_result",
          "data": {
            "text/plain": [
              "<matplotlib.axes._subplots.AxesSubplot at 0x7f85eed3f450>"
            ]
          },
          "metadata": {},
          "execution_count": 43
        },
        {
          "output_type": "display_data",
          "data": {
            "image/png": "[encoded data removed]",
            "text/plain": [
              "<Figure size 1440x576 with 1 Axes>"
            ]
          },
          "metadata": {}
        }
      ]
    },
    {
      "cell_type": "code",
      "metadata": {
        "id": "SVfpiXOWCsNu",
        "colab": {
          "base_uri": "https://localhost:8080/",
          "height": 685
        },
        "outputId": "de7cf018-af8b-43a0-b712-0d6caaa33bbf"
      },
      "source": [
        "merged_df.groupby([\"dept_name\", \"salary\", \"status\"]).size().unstack().plot(kind='bar', stacked=True)\n"
      ],
      "id": "SVfpiXOWCsNu",
      "execution_count": 44,
      "outputs": [
        {
          "output_type": "execute_result",
          "data": {
            "text/plain": [
              "<matplotlib.axes._subplots.AxesSubplot at 0x7f85eec29a50>"
            ]
          },
          "metadata": {},
          "execution_count": 44
        },
        {
          "output_type": "display_data",
          "data": {
            "image/png": "[encoded data removed]",
            "text/plain": [
              "<Figure size 1440x576 with 1 Axes>"
            ]
          },
          "metadata": {}
        }
      ]
    }
  ]
}