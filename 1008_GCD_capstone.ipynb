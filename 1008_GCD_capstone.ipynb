{
 "cells": [
  {
   "cell_type": "markdown",
   "metadata": {},
   "source": [
    "<a id=No1></a>\n",
    "### 1. Create MYSQL Connection and Import Libraries"
   ]
  },
  {
   "cell_type": "code",
   "execution_count": 1,
   "metadata": {},
   "outputs": [],
   "source": [
    "#install mysql connector\n",
    "#!pip install mysql-connector\n",
    "#!pip install mysql-connector-python\n",
    "\n",
    "\n",
    "#!pip install plotly\n",
    "#!pip install matplotlib\n",
    "#!pip install seaborn"
   ]
  },
  {
   "cell_type": "code",
   "execution_count": 2,
   "metadata": {},
   "outputs": [],
   "source": [
    "import csv\n",
    "import pandas as pd\n",
    "import numpy as np\n",
    "import warnings\n",
    "import mysql.connector\n",
    "#Import mysql connector for connecting to DB\n",
    "warnings.filterwarnings(\"ignore\")\n",
    "warnings.filterwarnings(\"ignore\",category=DeprecationWarning)\n",
    "\n",
    "import plotly.express as px\n",
    "\n",
    "import matplotlib.pyplot as plt\n",
    "%matplotlib inline\n",
    "import seaborn as sns\n",
    "sns.set(style='whitegrid', font_scale=1.3, color_codes=True)      # To apply seaborn styles to the plots.\n",
    "import random\n",
    "import seaborn as sns"
   ]
  },
  {
   "cell_type": "markdown",
   "metadata": {},
   "source": [
    "#### Database Connection\n"
   ]
  },
  {
   "cell_type": "code",
   "execution_count": 3,
   "metadata": {},
   "outputs": [],
   "source": [
    "#Storing the connection details of the DB in variable mydb\n",
    "mydb = mysql.connector.connect(\n",
    "  host=\"cpanel.insaid.co\",\n",
    "  user=\"student\",\n",
    "  password=\"student\",\n",
    "  database=\"Capstone2\"\n",
    ")"
   ]
  },
  {
   "cell_type": "markdown",
   "metadata": {},
   "source": [
    "<a id=No2></a>\n",
    "### 2. Extract Data from Tables and Files\n",
    "\n",
    "['department_data', 'employee_details_data', 'employee_data']"
   ]
  },
  {
   "cell_type": "code",
   "execution_count": 4,
   "metadata": {},
   "outputs": [
    {
     "name": "stdout",
     "output_type": "stream",
     "text": [
      "<class 'pandas.core.frame.DataFrame'>\n",
      "RangeIndex: 11 entries, 0 to 10\n",
      "Data columns (total 3 columns):\n",
      " #   Column     Non-Null Count  Dtype \n",
      "---  ------     --------------  ----- \n",
      " 0   dept_id    11 non-null     object\n",
      " 1   dept_name  11 non-null     object\n",
      " 2   dept_head  11 non-null     object\n",
      "dtypes: object(3)\n",
      "memory usage: 392.0+ bytes\n"
     ]
    }
   ],
   "source": [
    "#Reading the Table : department_data and getting all rows and store in dataframe dpt_data\n",
    "dpt_data = pd.read_sql('SELECT * FROM department_data', con=mydb)\n",
    "dpt_data.info()"
   ]
  },
  {
   "cell_type": "markdown",
   "metadata": {},
   "source": [
    "###### Department_Data table\n",
    "- Table contains 11 Rows\n",
    "- All columns has non-null data, no data is missing\n",
    "- All the data in this table is unique"
   ]
  },
  {
   "cell_type": "code",
   "execution_count": 5,
   "metadata": {},
   "outputs": [
    {
     "name": "stdout",
     "output_type": "stream",
     "text": [
      "<class 'pandas.core.frame.DataFrame'>\n",
      "RangeIndex: 14150 entries, 0 to 14149\n",
      "Data columns (total 11 columns):\n",
      " #   Column             Non-Null Count  Dtype  \n",
      "---  ------             --------------  -----  \n",
      " 0   avg_monthly_hrs    14150 non-null  float64\n",
      " 1   department         13443 non-null  object \n",
      " 2   filed_complaint    2046 non-null   float64\n",
      " 3   last_evaluation    12663 non-null  float64\n",
      " 4   n_projects         14150 non-null  int64  \n",
      " 5   recently_promoted  297 non-null    float64\n",
      " 6   salary             14150 non-null  object \n",
      " 7   satisfaction       14000 non-null  float64\n",
      " 8   status             14150 non-null  object \n",
      " 9   tenure             14000 non-null  float64\n",
      " 10  employee_id        14150 non-null  int64  \n",
      "dtypes: float64(6), int64(2), object(3)\n",
      "memory usage: 1.2+ MB\n"
     ]
    }
   ],
   "source": [
    "#Reading the Table : employee_data and getting all rows and store in dataframe emp_data\n",
    "emp_data = pd.read_sql('SELECT * FROM employee_data', con=mydb)\n",
    "emp_data.info()"
   ]
  },
  {
   "cell_type": "code",
   "execution_count": 6,
   "metadata": {},
   "outputs": [
    {
     "data": {
      "text/plain": [
       "14117"
      ]
     },
     "execution_count": 6,
     "metadata": {},
     "output_type": "execute_result"
    }
   ],
   "source": [
    "emp_data['employee_id'].nunique()"
   ]
  },
  {
   "cell_type": "code",
   "execution_count": 7,
   "metadata": {},
   "outputs": [
    {
     "data": {
      "text/plain": [
       "0         5\n",
       "106813    2\n",
       "119780    2\n",
       "104360    2\n",
       "119754    2\n",
       "112203    2\n",
       "117454    2\n",
       "122385    2\n",
       "110546    2\n",
       "116247    2\n",
       "109425    2\n",
       "105625    2\n",
       "111323    2\n",
       "109085    2\n",
       "111968    2\n",
       "108265    2\n",
       "116209    2\n",
       "109804    2\n",
       "112373    2\n",
       "102701    2\n",
       "110000    2\n",
       "101809    2\n",
       "116850    2\n",
       "116533    2\n",
       "115446    2\n",
       "108535    2\n",
       "112312    2\n",
       "116153    2\n",
       "108128    2\n",
       "115325    2\n",
       "Name: employee_id, dtype: int64"
      ]
     },
     "execution_count": 7,
     "metadata": {},
     "output_type": "execute_result"
    }
   ],
   "source": [
    "# Check for Duplicate Records based on 'employee_id'\n",
    "duplicate_emp = emp_data[emp_data.duplicated('employee_id', keep=False)]\n",
    "duplicate_emp['employee_id'].value_counts()"
   ]
  },
  {
   "cell_type": "code",
   "execution_count": 8,
   "metadata": {},
   "outputs": [
    {
     "data": {
      "text/plain": [
       "108265    2\n",
       "115325    2\n",
       "104360    2\n",
       "119754    2\n",
       "112203    2\n",
       "117454    2\n",
       "122385    2\n",
       "110546    2\n",
       "116247    2\n",
       "109425    2\n",
       "105625    2\n",
       "111323    2\n",
       "109085    2\n",
       "111968    2\n",
       "116209    2\n",
       "106813    2\n",
       "109804    2\n",
       "112373    2\n",
       "102701    2\n",
       "110000    2\n",
       "101809    2\n",
       "116850    2\n",
       "116533    2\n",
       "115446    2\n",
       "108535    2\n",
       "112312    2\n",
       "116153    2\n",
       "108128    2\n",
       "119780    2\n",
       "Name: employee_id, dtype: int64"
      ]
     },
     "execution_count": 8,
     "metadata": {},
     "output_type": "execute_result"
    }
   ],
   "source": [
    "# Check for Duplicate Records based on All columns\n",
    "#emp_data['employee_id'].value_counts()\n",
    "duplicate_emp = emp_data[emp_data.duplicated(keep=False)]\n",
    "#duplicate_emp.sort_values('employee_id').nunique()\n",
    "duplicate_emp['employee_id'].value_counts()"
   ]
  },
  {
   "cell_type": "code",
   "execution_count": 9,
   "metadata": {},
   "outputs": [],
   "source": [
    "# Removing Duplicates, keeping the first record\n",
    "emp_data.drop_duplicates(keep='first',inplace=True)\n",
    "# Removing all rows with value of employee_id = 0\n",
    "emp_data = emp_data[emp_data.employee_id != 0]"
   ]
  },
  {
   "cell_type": "code",
   "execution_count": 10,
   "metadata": {},
   "outputs": [
    {
     "data": {
      "text/plain": [
       "14116"
      ]
     },
     "execution_count": 10,
     "metadata": {},
     "output_type": "execute_result"
    }
   ],
   "source": [
    "emp_data['employee_id'].nunique()"
   ]
  },
  {
   "cell_type": "code",
   "execution_count": 11,
   "metadata": {},
   "outputs": [
    {
     "data": {
      "text/plain": [
       "D00-SS     3895\n",
       "D00-ENG    2573\n",
       "D00-SP     2108\n",
       "D00-IT     1152\n",
       "D00-PD      853\n",
       "D00-MT      812\n",
       "D00-FN      722\n",
       "D00-MN      590\n",
       "-IT         207\n",
       "D00-AD      175\n",
       "D00-PR      173\n",
       "D00-TP      150\n",
       "Name: department, dtype: int64"
      ]
     },
     "execution_count": 11,
     "metadata": {},
     "output_type": "execute_result"
    }
   ],
   "source": [
    "#emp_data['department'].nunique()\n",
    "emp_data['department'].value_counts()"
   ]
  },
  {
   "cell_type": "code",
   "execution_count": 12,
   "metadata": {},
   "outputs": [],
   "source": [
    "emp_data[\"department\"].replace({\"-IT\": \"D00-IT\"}, inplace=True)"
   ]
  },
  {
   "cell_type": "code",
   "execution_count": 13,
   "metadata": {},
   "outputs": [
    {
     "data": {
      "text/plain": [
       "D00-SS     3895\n",
       "D00-ENG    2573\n",
       "D00-SP     2108\n",
       "D00-IT     1359\n",
       "D00-PD      853\n",
       "D00-MT      812\n",
       "D00-FN      722\n",
       "D00-MN      590\n",
       "D00-AD      175\n",
       "D00-PR      173\n",
       "D00-TP      150\n",
       "Name: department, dtype: int64"
      ]
     },
     "execution_count": 13,
     "metadata": {},
     "output_type": "execute_result"
    }
   ],
   "source": [
    "#emp_data['department'].nunique()\n",
    "emp_data['department'].value_counts()"
   ]
  },
  {
   "cell_type": "code",
   "execution_count": 14,
   "metadata": {},
   "outputs": [
    {
     "data": {
      "text/plain": [
       "1.0    2041\n",
       "Name: filed_complaint, dtype: int64"
      ]
     },
     "execution_count": 14,
     "metadata": {},
     "output_type": "execute_result"
    }
   ],
   "source": [
    "emp_data['filed_complaint'].value_counts()"
   ]
  },
  {
   "cell_type": "code",
   "execution_count": 15,
   "metadata": {},
   "outputs": [
    {
     "data": {
      "text/plain": [
       "1.000000    356\n",
       "0.896246      3\n",
       "0.587029      2\n",
       "0.890877      2\n",
       "0.908024      2\n",
       "           ... \n",
       "0.992276      1\n",
       "0.754216      1\n",
       "0.716929      1\n",
       "0.906931      1\n",
       "0.568577      1\n",
       "Name: last_evaluation, Length: 12184, dtype: int64"
      ]
     },
     "execution_count": 15,
     "metadata": {},
     "output_type": "execute_result"
    }
   ],
   "source": [
    "emp_data['last_evaluation'].value_counts()"
   ]
  },
  {
   "cell_type": "code",
   "execution_count": 16,
   "metadata": {},
   "outputs": [
    {
     "data": {
      "text/plain": [
       "1.0    297\n",
       "Name: recently_promoted, dtype: int64"
      ]
     },
     "execution_count": 16,
     "metadata": {},
     "output_type": "execute_result"
    }
   ],
   "source": [
    "emp_data['recently_promoted'].value_counts()"
   ]
  },
  {
   "cell_type": "code",
   "execution_count": 17,
   "metadata": {},
   "outputs": [
    {
     "data": {
      "text/plain": [
       "1.000000    356\n",
       "0.808750      2\n",
       "0.983452      2\n",
       "0.112795      2\n",
       "0.557875      2\n",
       "           ... \n",
       "0.814787      1\n",
       "0.321574      1\n",
       "0.983175      1\n",
       "0.886305      1\n",
       "0.158990      1\n",
       "Name: satisfaction, Length: 13492, dtype: int64"
      ]
     },
     "execution_count": 17,
     "metadata": {},
     "output_type": "execute_result"
    }
   ],
   "source": [
    "emp_data['satisfaction'].value_counts()"
   ]
  },
  {
   "cell_type": "code",
   "execution_count": 18,
   "metadata": {},
   "outputs": [
    {
     "data": {
      "text/plain": [
       "3.0     6006\n",
       "2.0     3019\n",
       "4.0     2386\n",
       "5.0     1363\n",
       "6.0      659\n",
       "10.0     198\n",
       "7.0      180\n",
       "8.0      155\n",
       "Name: tenure, dtype: int64"
      ]
     },
     "execution_count": 18,
     "metadata": {},
     "output_type": "execute_result"
    }
   ],
   "source": [
    "emp_data['tenure'].value_counts()"
   ]
  },
  {
   "cell_type": "code",
   "execution_count": 19,
   "metadata": {},
   "outputs": [
    {
     "data": {
      "text/plain": [
       "False    13966\n",
       "True       150\n",
       "Name: satisfaction, dtype: int64"
      ]
     },
     "execution_count": 19,
     "metadata": {},
     "output_type": "execute_result"
    }
   ],
   "source": [
    "\n",
    "#emp_data.tenure.isnull().value_counts()\n",
    "emp_data.satisfaction.isnull().value_counts()"
   ]
  },
  {
   "cell_type": "code",
   "execution_count": 20,
   "metadata": {},
   "outputs": [
    {
     "name": "stdout",
     "output_type": "stream",
     "text": [
      "<class 'pandas.core.frame.DataFrame'>\n",
      "Int64Index: 14116 entries, 0 to 14120\n",
      "Data columns (total 11 columns):\n",
      " #   Column             Non-Null Count  Dtype  \n",
      "---  ------             --------------  -----  \n",
      " 0   avg_monthly_hrs    14116 non-null  float64\n",
      " 1   department         13410 non-null  object \n",
      " 2   filed_complaint    2041 non-null   float64\n",
      " 3   last_evaluation    12629 non-null  float64\n",
      " 4   n_projects         14116 non-null  int64  \n",
      " 5   recently_promoted  297 non-null    float64\n",
      " 6   salary             14116 non-null  object \n",
      " 7   satisfaction       13966 non-null  float64\n",
      " 8   status             14116 non-null  object \n",
      " 9   tenure             13966 non-null  float64\n",
      " 10  employee_id        14116 non-null  int64  \n",
      "dtypes: float64(6), int64(2), object(3)\n",
      "memory usage: 1.3+ MB\n"
     ]
    }
   ],
   "source": [
    "emp_data.info()"
   ]
  },
  {
   "cell_type": "code",
   "execution_count": 21,
   "metadata": {},
   "outputs": [
    {
     "data": {
      "text/plain": [
       "706"
      ]
     },
     "execution_count": 21,
     "metadata": {},
     "output_type": "execute_result"
    }
   ],
   "source": [
    "14116 - 13410 "
   ]
  },
  {
   "cell_type": "code",
   "execution_count": 22,
   "metadata": {},
   "outputs": [
    {
     "data": {
      "text/plain": [
       "Series([], Name: employee_id, dtype: int64)"
      ]
     },
     "execution_count": 22,
     "metadata": {},
     "output_type": "execute_result"
    }
   ],
   "source": [
    "# Checking if there is any duplicate record exist in the Queue\n",
    "duplicate_emp = emp_data[emp_data.duplicated('employee_id', keep=False)]\n",
    "duplicate_emp['employee_id'].value_counts()\n"
   ]
  },
  {
   "cell_type": "markdown",
   "metadata": {},
   "source": [
    "###### Employee_Data table\n",
    "- Table contains 14150 Rows/Records for Employees\n",
    "- Table contains 14117 Unique Employee Records\n",
    "- Table contains 5 records with employee_id as 0\n",
    "- Table contains other 29 duplicate employee_id records, from which either first or last can be kept, as the records duplicate\n",
    "- Records with Employee Id '0' are 5 distinct records, we can remove all the five records with employee_id = 0\n",
    "- Column 'department' contains a value as '-IT', this can be a mistake and can be replaced with value 'D00-IT'\n",
    "- Column 'department' contains some (706) Null values, we need to see how to handle this, if department column is of some use, then we can remove the rows with department column as Null. If it is of no use then we can remove this column\n",
    "- Column 'filed_complaint' has value as '1' or 'Null', 'Null' can be replaced with '0'\n",
    "- Column 'last_evaluation' contains some Null values, 'Null values in 'last_evaluation' can be replaced with average of the 'last_evaluation' column with non-null values\n",
    "- Column 'recently_promoted' has value as '1' or 'Null', 'Null' can be replaced with '0'\n",
    "- Column 'tenure' contains some Null values\n",
    "- For 150 records, both 'tenure' and 'satisfaction' columns are Null. Seems these are for new employees and have not gone through annual evaluation.\n",
    "- The 'Null' values in column 'tenure' can be replaced with 0 or 1, as these employees are in there 1st year of employment with this employer\n",
    "- Column 'satisfaction' contains some Null values, Null values in Satisfaction can be replaced with average of the Satisfaction column with non-null values\n"
   ]
  },
  {
   "cell_type": "code",
   "execution_count": 23,
   "metadata": {},
   "outputs": [
    {
     "name": "stdout",
     "output_type": "stream",
     "text": [
      "<class 'pandas.core.frame.DataFrame'>\n",
      "RangeIndex: 14245 entries, 0 to 14244\n",
      "Data columns (total 4 columns):\n",
      " #   Column          Non-Null Count  Dtype \n",
      "---  ------          --------------  ----- \n",
      " 0   employee_id     14245 non-null  int64 \n",
      " 1   age             14245 non-null  int64 \n",
      " 2   gender          14245 non-null  object\n",
      " 3   marital_status  14245 non-null  object\n",
      "dtypes: int64(2), object(2)\n",
      "memory usage: 445.3+ KB\n"
     ]
    }
   ],
   "source": [
    "#Reading the Table : employee_details_data and getting all rows and store in dataframe emp_det_data\n",
    "emp_det_data = pd.read_sql('SELECT * FROM employee_details_data', con=mydb)\n",
    "emp_det_data.info()"
   ]
  },
  {
   "cell_type": "code",
   "execution_count": 24,
   "metadata": {},
   "outputs": [
    {
     "data": {
      "text/plain": [
       "14245"
      ]
     },
     "execution_count": 24,
     "metadata": {},
     "output_type": "execute_result"
    }
   ],
   "source": [
    "emp_det_data['employee_id'].nunique()"
   ]
  },
  {
   "cell_type": "code",
   "execution_count": 25,
   "metadata": {},
   "outputs": [
    {
     "data": {
      "text/plain": [
       "36"
      ]
     },
     "execution_count": 25,
     "metadata": {},
     "output_type": "execute_result"
    }
   ],
   "source": [
    "emp_det_data['age'].nunique()"
   ]
  },
  {
   "cell_type": "code",
   "execution_count": 26,
   "metadata": {},
   "outputs": [
    {
     "data": {
      "text/plain": [
       "24    1319\n",
       "25    1255\n",
       "23    1209\n",
       "22    1175\n",
       "27     674\n",
       "29     669\n",
       "28     651\n",
       "26     633\n",
       "42     306\n",
       "37     285\n",
       "32     281\n",
       "47     281\n",
       "33     280\n",
       "46     277\n",
       "30     275\n",
       "39     275\n",
       "48     274\n",
       "40     273\n",
       "36     271\n",
       "41     270\n",
       "38     270\n",
       "45     266\n",
       "43     265\n",
       "35     264\n",
       "52     254\n",
       "44     252\n",
       "34     247\n",
       "49     244\n",
       "50     236\n",
       "53     236\n",
       "51     228\n",
       "31     228\n",
       "54     227\n",
       "55      38\n",
       "57      34\n",
       "56      23\n",
       "Name: age, dtype: int64"
      ]
     },
     "execution_count": 26,
     "metadata": {},
     "output_type": "execute_result"
    }
   ],
   "source": [
    "emp_det_data['age'].value_counts()"
   ]
  },
  {
   "cell_type": "code",
   "execution_count": 27,
   "metadata": {},
   "outputs": [
    {
     "data": {
      "text/plain": [
       "2"
      ]
     },
     "execution_count": 27,
     "metadata": {},
     "output_type": "execute_result"
    }
   ],
   "source": [
    "emp_det_data['gender'].nunique()"
   ]
  },
  {
   "cell_type": "code",
   "execution_count": 28,
   "metadata": {},
   "outputs": [
    {
     "data": {
      "text/plain": [
       "2"
      ]
     },
     "execution_count": 28,
     "metadata": {},
     "output_type": "execute_result"
    }
   ],
   "source": [
    "emp_det_data['marital_status'].nunique()"
   ]
  },
  {
   "cell_type": "markdown",
   "metadata": {},
   "source": [
    "###### Employee_Details_Data table\n",
    "- Table contains 14245 Rows/Records for Employees\n",
    "- All the records are Unique\n",
    "- The data in 'age' column seems to contain logical records, no outliers are found\n",
    "- The data in 'gender' column contains only 2 type of records\n",
    "- The data in 'marital_status' column contains only 2 type of records"
   ]
  },
  {
   "cell_type": "markdown",
   "metadata": {},
   "source": [
    "#### Merging the Data"
   ]
  },
  {
   "cell_type": "code",
   "execution_count": 29,
   "metadata": {},
   "outputs": [],
   "source": [
    "merged_df = pd.merge(dpt_data, emp_data, how ='right', left_on='dept_id', right_on='department').drop(['dept_id', 'department'], 1)"
   ]
  },
  {
   "cell_type": "code",
   "execution_count": 30,
   "metadata": {},
   "outputs": [],
   "source": [
    "merged_df = pd.merge(merged_df, emp_det_data, how ='left', left_on='employee_id', right_on='employee_id')"
   ]
  },
  {
   "cell_type": "code",
   "execution_count": 31,
   "metadata": {},
   "outputs": [],
   "source": [
    "merged_df[\"filed_complaint\"].fillna(0, inplace = True)\n",
    "merged_df[\"last_evaluation\"].fillna(merged_df['last_evaluation'].mean(), inplace = True)\n",
    "merged_df[\"recently_promoted\"].fillna(0, inplace = True)\n",
    "merged_df[\"satisfaction\"].fillna(merged_df['satisfaction'].mean(), inplace = True)\n",
    "merged_df[\"tenure\"].fillna(1, inplace = True)\n",
    "merged_df = merged_df.drop(['dept_head'], axis=1)"
   ]
  },
  {
   "cell_type": "code",
   "execution_count": 32,
   "metadata": {
    "scrolled": false
   },
   "outputs": [
    {
     "name": "stdout",
     "output_type": "stream",
     "text": [
      "<class 'pandas.core.frame.DataFrame'>\n",
      "Int64Index: 14116 entries, 0 to 14115\n",
      "Data columns (total 14 columns):\n",
      " #   Column             Non-Null Count  Dtype  \n",
      "---  ------             --------------  -----  \n",
      " 0   dept_name          13410 non-null  object \n",
      " 1   avg_monthly_hrs    14116 non-null  float64\n",
      " 2   filed_complaint    14116 non-null  float64\n",
      " 3   last_evaluation    14116 non-null  float64\n",
      " 4   n_projects         14116 non-null  int64  \n",
      " 5   recently_promoted  14116 non-null  float64\n",
      " 6   salary             14116 non-null  object \n",
      " 7   satisfaction       14116 non-null  float64\n",
      " 8   status             14116 non-null  object \n",
      " 9   tenure             14116 non-null  float64\n",
      " 10  employee_id        14116 non-null  int64  \n",
      " 11  age                14116 non-null  int64  \n",
      " 12  gender             14116 non-null  object \n",
      " 13  marital_status     14116 non-null  object \n",
      "dtypes: float64(6), int64(3), object(5)\n",
      "memory usage: 1.6+ MB\n"
     ]
    }
   ],
   "source": [
    "merged_df.info()"
   ]
  },
  {
   "cell_type": "markdown",
   "metadata": {},
   "source": [
    "###### Merged Data Analysis\n",
    "- Department and Employee data is merged on the basis of 'dept_id' and 'department' columns\n",
    "- Both the columns 'dept_id' and 'department' are removed as well\n",
    "- The merged data of above 2 tables is then merged with Employee Details on the basis of 'employee_id'\n",
    "- 'dept_head' column is removed, as it will not be of much use\n",
    "- Object type variables needs to converted to Numerical"
   ]
  },
  {
   "cell_type": "code",
   "execution_count": 35,
   "metadata": {},
   "outputs": [],
   "source": [
    "# Optional, can be removed. Dropping the rows with null values\n",
    "#merged_df.dropna(subset=['dept_name'], inplace=True)\n",
    "#merged_df['satisfaction'].value_counts()\n",
    "#merged_df['last_evaluation'].value_counts()"
   ]
  },
  {
   "cell_type": "markdown",
   "metadata": {},
   "source": [
    "- department vs Avg Monthly hours\n",
    "- department vs filed complaints\n",
    "- department vs last evaluation\n",
    "- department vs number of projects\n",
    "\n"
   ]
  }
 ],
 "metadata": {
  "kernelspec": {
   "display_name": "Python 3",
   "language": "python",
   "name": "python3"
  },
  "language_info": {
   "codemirror_mode": {
    "name": "ipython",
    "version": 3
   },
   "file_extension": ".py",
   "mimetype": "text/x-python",
   "name": "python",
   "nbconvert_exporter": "python",
   "pygments_lexer": "ipython3",
   "version": "3.8.5"
  },
  "toc": {
   "base_numbering": 1,
   "nav_menu": {},
   "number_sections": true,
   "sideBar": true,
   "skip_h1_title": false,
   "title_cell": "Table of Contents",
   "title_sidebar": "Contents",
   "toc_cell": false,
   "toc_position": {},
   "toc_section_display": true,
   "toc_window_display": false
  }
 },
 "nbformat": 4,
 "nbformat_minor": 5
}
